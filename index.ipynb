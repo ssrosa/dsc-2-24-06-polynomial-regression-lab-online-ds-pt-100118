{
 "cells": [
  {
   "cell_type": "markdown",
   "metadata": {},
   "source": [
    "# Polynomial Regression - Lab"
   ]
  },
  {
   "cell_type": "markdown",
   "metadata": {},
   "source": [
    "## Introduction"
   ]
  },
  {
   "cell_type": "markdown",
   "metadata": {},
   "source": [
    "In this lab you'll practice your knowledge on adding polynomial terms to your regression model! "
   ]
  },
  {
   "cell_type": "markdown",
   "metadata": {},
   "source": [
    "## Objectives"
   ]
  },
  {
   "cell_type": "markdown",
   "metadata": {},
   "source": [
    "You will be able to:\n",
    "\n",
    "- Understand how to account for non-linear relationships between predictors and target variable using polynomial terms"
   ]
  },
  {
   "cell_type": "markdown",
   "metadata": {},
   "source": [
    "## Create the best plot using polynomials!"
   ]
  },
  {
   "cell_type": "markdown",
   "metadata": {},
   "source": [
    "Below, we created a plot with a clearly non-linear shape.\n",
    "\n",
    "- plot a polynomial function using `PolynomialFeatures` for polynomials up until the second, third and fourth degree.\n",
    "- print out the $R^2$ value for each of the three results. Draw conclusions with respect to which degree is best."
   ]
  },
  {
   "cell_type": "code",
   "execution_count": 1,
   "metadata": {},
   "outputs": [],
   "source": [
    "import numpy as np\n",
    "import matplotlib.pyplot as plt\n",
    "% matplotlib inline"
   ]
  },
  {
   "cell_type": "code",
   "execution_count": 2,
   "metadata": {},
   "outputs": [],
   "source": [
    "def pol(x):\n",
    "    return x * np.cos(x)"
   ]
  },
  {
   "cell_type": "code",
   "execution_count": 56,
   "metadata": {},
   "outputs": [
    {
     "data": {
      "text/plain": [
       "array([ 0.        ,  0.12121212,  0.24242424,  0.36363636,  0.48484848,\n",
       "        0.60606061,  0.72727273,  0.84848485,  0.96969697,  1.09090909,\n",
       "        1.21212121,  1.33333333,  1.45454545,  1.57575758,  1.6969697 ,\n",
       "        1.81818182,  1.93939394,  2.06060606,  2.18181818,  2.3030303 ,\n",
       "        2.42424242,  2.54545455,  2.66666667,  2.78787879,  2.90909091,\n",
       "        3.03030303,  3.15151515,  3.27272727,  3.39393939,  3.51515152,\n",
       "        3.63636364,  3.75757576,  3.87878788,  4.        ,  4.12121212,\n",
       "        4.24242424,  4.36363636,  4.48484848,  4.60606061,  4.72727273,\n",
       "        4.84848485,  4.96969697,  5.09090909,  5.21212121,  5.33333333,\n",
       "        5.45454545,  5.57575758,  5.6969697 ,  5.81818182,  5.93939394,\n",
       "        6.06060606,  6.18181818,  6.3030303 ,  6.42424242,  6.54545455,\n",
       "        6.66666667,  6.78787879,  6.90909091,  7.03030303,  7.15151515,\n",
       "        7.27272727,  7.39393939,  7.51515152,  7.63636364,  7.75757576,\n",
       "        7.87878788,  8.        ,  8.12121212,  8.24242424,  8.36363636,\n",
       "        8.48484848,  8.60606061,  8.72727273,  8.84848485,  8.96969697,\n",
       "        9.09090909,  9.21212121,  9.33333333,  9.45454545,  9.57575758,\n",
       "        9.6969697 ,  9.81818182,  9.93939394, 10.06060606, 10.18181818,\n",
       "       10.3030303 , 10.42424242, 10.54545455, 10.66666667, 10.78787879,\n",
       "       10.90909091, 11.03030303, 11.15151515, 11.27272727, 11.39393939,\n",
       "       11.51515152, 11.63636364, 11.75757576, 11.87878788, 12.        ])"
      ]
     },
     "execution_count": 56,
     "metadata": {},
     "output_type": "execute_result"
    }
   ],
   "source": [
    "x = np.linspace(0, 12, 100)\n",
    "x"
   ]
  },
  {
   "cell_type": "code",
   "execution_count": 57,
   "metadata": {},
   "outputs": [],
   "source": [
    "rng = np.random.RandomState(1234)"
   ]
  },
  {
   "cell_type": "code",
   "execution_count": 6,
   "metadata": {},
   "outputs": [
    {
     "name": "stdout",
     "output_type": "stream",
     "text": [
      "<mtrand.RandomState object at 0x109d7c168>\n"
     ]
    }
   ],
   "source": [
    "print(rng)"
   ]
  },
  {
   "cell_type": "code",
   "execution_count": 58,
   "metadata": {},
   "outputs": [
    {
     "data": {
      "text/plain": [
       "<mtrand.RandomState at 0x1a1c443e58>"
      ]
     },
     "execution_count": 58,
     "metadata": {},
     "output_type": "execute_result"
    }
   ],
   "source": [
    "rng.shuffle(x)\n",
    "rng"
   ]
  },
  {
   "cell_type": "code",
   "execution_count": 59,
   "metadata": {},
   "outputs": [
    {
     "data": {
      "text/plain": [
       "array([ 0.12121212,  1.09090909,  3.27272727,  3.51515152,  4.        ,\n",
       "        4.24242424,  4.72727273,  4.84848485,  5.09090909,  6.18181818,\n",
       "        6.78787879,  7.15151515,  7.39393939,  7.63636364,  8.24242424,\n",
       "        8.60606061,  9.09090909,  9.81818182,  9.93939394, 10.3030303 ,\n",
       "       10.54545455, 10.66666667, 11.39393939, 11.63636364, 11.87878788])"
      ]
     },
     "execution_count": 59,
     "metadata": {},
     "output_type": "execute_result"
    }
   ],
   "source": [
    "x = np.sort(x[:25])\n",
    "x"
   ]
  },
  {
   "cell_type": "code",
   "execution_count": 60,
   "metadata": {},
   "outputs": [
    {
     "data": {
      "text/plain": [
       "array([ -2.65381915,  -0.95763208,  -3.03847169,  -2.51194871,\n",
       "        -5.38409527,  -2.20518314,   1.24156135,  -0.88756522,\n",
       "         3.04074168,   7.01988399,   5.19377838,   5.65242305,\n",
       "         4.38708692,   2.25504067,  -5.59324658,  -6.43528691,\n",
       "        -7.19675496, -10.93086649, -10.03753199,  -9.33936254,\n",
       "        -6.18620492,  -4.53689121,   6.11575907,   6.58555285,\n",
       "         8.86732219])"
      ]
     },
     "execution_count": 60,
     "metadata": {},
     "output_type": "execute_result"
    }
   ],
   "source": [
    "y = pol(x) + np.random.randn(25)*2\n",
    "y"
   ]
  },
  {
   "cell_type": "code",
   "execution_count": 61,
   "metadata": {},
   "outputs": [
    {
     "data": {
      "image/png": "[encoded data removed]",
      "text/plain": [
       "<Figure size 432x288 with 1 Axes>"
      ]
     },
     "metadata": {
      "needs_background": "light"
     },
     "output_type": "display_data"
    }
   ],
   "source": [
    "plt.scatter(x, y, color='green', s=50, marker='.')\n",
    "\n",
    "plt.show();"
   ]
  },
  {
   "cell_type": "markdown",
   "metadata": {},
   "source": [
    "## Solution"
   ]
  },
  {
   "cell_type": "code",
   "execution_count": null,
   "metadata": {},
   "outputs": [],
   "source": [
    "x"
   ]
  },
  {
   "cell_type": "code",
   "execution_count": null,
   "metadata": {},
   "outputs": [],
   "source": [
    "y"
   ]
  },
  {
   "cell_type": "code",
   "execution_count": 62,
   "metadata": {},
   "outputs": [
    {
     "data": {
      "text/plain": [
       "array([[ 0.12121212],\n",
       "       [ 1.09090909],\n",
       "       [ 3.27272727],\n",
       "       [ 3.51515152],\n",
       "       [ 4.        ],\n",
       "       [ 4.24242424],\n",
       "       [ 4.72727273],\n",
       "       [ 4.84848485],\n",
       "       [ 5.09090909],\n",
       "       [ 6.18181818],\n",
       "       [ 6.78787879],\n",
       "       [ 7.15151515],\n",
       "       [ 7.39393939],\n",
       "       [ 7.63636364],\n",
       "       [ 8.24242424],\n",
       "       [ 8.60606061],\n",
       "       [ 9.09090909],\n",
       "       [ 9.81818182],\n",
       "       [ 9.93939394],\n",
       "       [10.3030303 ],\n",
       "       [10.54545455],\n",
       "       [10.66666667],\n",
       "       [11.39393939],\n",
       "       [11.63636364],\n",
       "       [11.87878788]])"
      ]
     },
     "execution_count": 62,
     "metadata": {},
     "output_type": "execute_result"
    }
   ],
   "source": [
    "x = x.reshape(-1, 1)\n",
    "x"
   ]
  },
  {
   "cell_type": "code",
   "execution_count": 81,
   "metadata": {},
   "outputs": [],
   "source": [
    "from sklearn.preprocessing import PolynomialFeatures\n",
    "\n",
    "#transform x to the 2nd, 3rd, 4th degree\n",
    "poly2 = PolynomialFeatures(2)\n",
    "poly3 = PolynomialFeatures(3)\n",
    "poly4 = PolynomialFeatures(4)\n",
    "x_2nd = poly2.fit_transform(x)\n",
    "x_3rd = poly3.fit_transform(x)\n",
    "x_4th = poly4.fit_transform(x)"
   ]
  },
  {
   "cell_type": "code",
   "execution_count": 82,
   "metadata": {},
   "outputs": [],
   "source": [
    "from sklearn.linear_model import LinearRegression\n",
    "\n",
    "#build regressions for each transformed feature with y\n",
    "#\"reg poly\"\n",
    "reg2 = LinearRegression().fit(x_2nd, y)\n",
    "reg3 = LinearRegression().fit(x_3rd, y)\n",
    "reg4 = LinearRegression().fit(x_4th, y)"
   ]
  },
  {
   "cell_type": "code",
   "execution_count": 83,
   "metadata": {},
   "outputs": [],
   "source": [
    "#create predicted values (Ys) for each reg model\n",
    "#use these later for MSE and R2\n",
    "#\"predict X\"\n",
    "pred2 = reg2.predict(x_2nd)\n",
    "pred3 = reg3.predict(x_3rd)\n",
    "pred4 = reg4.predict(x_4th)"
   ]
  },
  {
   "cell_type": "code",
   "execution_count": 27,
   "metadata": {},
   "outputs": [
    {
     "data": {
      "text/plain": [
       "25"
      ]
     },
     "execution_count": 27,
     "metadata": {},
     "output_type": "execute_result"
    }
   ],
   "source": [
    "len(pred2)"
   ]
  },
  {
   "cell_type": "code",
   "execution_count": 43,
   "metadata": {},
   "outputs": [],
   "source": [
    "import pandas as pd\n"
   ]
  },
  {
   "cell_type": "code",
   "execution_count": 84,
   "metadata": {},
   "outputs": [],
   "source": [
    "#Construct a set of points that roughly follows the curve \n",
    "#captured in the \"polys\"\n",
    "#x linspace\n",
    "x_lin2 = pd.DataFrame(np.linspace(0, 12, 50), columns = ['x'])\n",
    "#x linspace fin\n",
    "x_fin2 = poly2.fit_transform(x_lin2)\n",
    "#y poly pred\n",
    "y_fin2 = reg2.predict(x_fin2)"
   ]
  },
  {
   "cell_type": "code",
   "execution_count": 85,
   "metadata": {},
   "outputs": [
    {
     "data": {
      "text/plain": [
       "[<matplotlib.lines.Line2D at 0x1a1c79b940>]"
      ]
     },
     "execution_count": 85,
     "metadata": {},
     "output_type": "execute_result"
    },
    {
     "data": {
      "image/png": "[encoded data removed]",
      "text/plain": [
       "<Figure size 432x288 with 1 Axes>"
      ]
     },
     "metadata": {
      "needs_background": "light"
     },
     "output_type": "display_data"
    }
   ],
   "source": [
    "#plot model for 2nd degree\n",
    "plt.scatter(x, y, color =\"green\")\n",
    "plt.plot(x_lin, y_fin, color = \"blue\")"
   ]
  },
  {
   "cell_type": "code",
   "execution_count": 86,
   "metadata": {},
   "outputs": [
    {
     "data": {
      "text/plain": [
       "[<matplotlib.lines.Line2D at 0x1a1fca19b0>]"
      ]
     },
     "execution_count": 86,
     "metadata": {},
     "output_type": "execute_result"
    },
    {
     "data": {
      "image/png": "[encoded data removed]",
      "text/plain": [
       "<Figure size 432x288 with 1 Axes>"
      ]
     },
     "metadata": {
      "needs_background": "light"
     },
     "output_type": "display_data"
    }
   ],
   "source": [
    "#plot model for 3rd degree\n",
    "x_lin3 = pd.DataFrame(np.linspace(0, 12, 50), columns = ['x'])\n",
    "#x linspace fin\n",
    "x_fin3 = poly3.fit_transform(x_lin3)\n",
    "#y poly pred\n",
    "y_fin3 = reg3.predict(x_fin3)\n",
    "\n",
    "plt.scatter(x, y, color =\"green\")\n",
    "plt.plot(x_lin3, y_fin3, color = \"blue\")"
   ]
  },
  {
   "cell_type": "code",
   "execution_count": 88,
   "metadata": {},
   "outputs": [
    {
     "data": {
      "text/plain": [
       "[<matplotlib.lines.Line2D at 0x1a1fe29ba8>]"
      ]
     },
     "execution_count": 88,
     "metadata": {},
     "output_type": "execute_result"
    },
    {
     "data": {
      "image/png": "[encoded data removed]",
      "text/plain": [
       "<Figure size 432x288 with 1 Axes>"
      ]
     },
     "metadata": {
      "needs_background": "light"
     },
     "output_type": "display_data"
    }
   ],
   "source": [
    "#plot model for 4th degree\n",
    "x_lin4 = pd.DataFrame(np.linspace(0, 12, 50), columns = ['x'])\n",
    "#x linspace fin\n",
    "x_fin4 = poly4.fit_transform(x_lin4)\n",
    "#y poly pred\n",
    "y_fin4 = reg4.predict(x_fin4)\n",
    "\n",
    "plt.scatter(x, y, color =\"green\")\n",
    "plt.plot(x_lin4, y_fin4, color = \"blue\")"
   ]
  },
  {
   "cell_type": "code",
   "execution_count": 89,
   "metadata": {},
   "outputs": [
    {
     "data": {
      "text/plain": [
       "[<matplotlib.lines.Line2D at 0x1a1fee3630>]"
      ]
     },
     "execution_count": 89,
     "metadata": {},
     "output_type": "execute_result"
    },
    {
     "data": {
      "image/png": "[encoded data removed]",
      "text/plain": [
       "<Figure size 432x288 with 1 Axes>"
      ]
     },
     "metadata": {
      "needs_background": "light"
     },
     "output_type": "display_data"
    }
   ],
   "source": [
    "#How about a 5th?\n",
    "\n",
    "poly5 = PolynomialFeatures(5)\n",
    "x_5th = poly5.fit_transform(x)\n",
    "reg5 = LinearRegression().fit(x_5th, y)\n",
    "pred5 = reg5.predict(x_5th)\n",
    "\n",
    "#plot model for 5th degree\n",
    "x_lin5 = pd.DataFrame(np.linspace(0, 12, 50), columns = ['x'])\n",
    "#x linspace fin\n",
    "x_fin5 = poly5.fit_transform(x_lin5)\n",
    "#y poly pred\n",
    "y_fin5 = reg5.predict(x_fin5)\n",
    "\n",
    "plt.scatter(x, y, color =\"green\")\n",
    "plt.plot(x_lin5, y_fin5, color = \"blue\")"
   ]
  },
  {
   "cell_type": "code",
   "execution_count": 90,
   "metadata": {},
   "outputs": [
    {
     "name": "stdout",
     "output_type": "stream",
     "text": [
      "32.850335136015005\n",
      "9.928035984696493e-05\n"
     ]
    }
   ],
   "source": [
    "#Find MSE and R-squared score for 2nd degree\n",
    "from sklearn.metrics import mean_squared_error, r2_score\n",
    "\n",
    "print(mean_squared_error(y, pred2))\n",
    "print(r2_score(y, pred2))"
   ]
  },
  {
   "cell_type": "code",
   "execution_count": 91,
   "metadata": {},
   "outputs": [
    {
     "name": "stdout",
     "output_type": "stream",
     "text": [
      "27.20373332462711\n",
      "0.17197092767641242\n"
     ]
    }
   ],
   "source": [
    "#Find MSE and R-squared score for 3rd degree\n",
    "\n",
    "print(mean_squared_error(y, pred3))\n",
    "print(r2_score(y, pred3))"
   ]
  },
  {
   "cell_type": "code",
   "execution_count": 92,
   "metadata": {},
   "outputs": [
    {
     "name": "stdout",
     "output_type": "stream",
     "text": [
      "8.478774881105032\n",
      "0.7419224774973723\n"
     ]
    }
   ],
   "source": [
    "#Find MSE and R-squared score for 4th degree\n",
    "\n",
    "print(mean_squared_error(y, pred4))\n",
    "print(r2_score(y, pred4))"
   ]
  },
  {
   "cell_type": "code",
   "execution_count": 93,
   "metadata": {},
   "outputs": [
    {
     "name": "stdout",
     "output_type": "stream",
     "text": [
      "6.034648889439147\n",
      "0.8163169495123199\n"
     ]
    }
   ],
   "source": [
    "#Find MSE and R-squared score for 5th degree\n",
    "\n",
    "print(mean_squared_error(y, pred5))\n",
    "print(r2_score(y, pred5))"
   ]
  },
  {
   "cell_type": "markdown",
   "metadata": {},
   "source": [
    "## Summary"
   ]
  },
  {
   "cell_type": "markdown",
   "metadata": {},
   "source": [
    "Great! You now know how to include polynomials in your linear model!"
   ]
  }
 ],
 "metadata": {
  "kernelspec": {
   "display_name": "learn-env",
   "language": "python",
   "name": "learn-env"
  },
  "language_info": {
   "codemirror_mode": {
    "name": "ipython",
    "version": 3
   },
   "file_extension": ".py",
   "mimetype": "text/x-python",
   "name": "python",
   "nbconvert_exporter": "python",
   "pygments_lexer": "ipython3",
   "version": "3.6.6"
  }
 },
 "nbformat": 4,
 "nbformat_minor": 2
}
